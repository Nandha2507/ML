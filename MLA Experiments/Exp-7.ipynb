{
 "cells": [
  {
   "cell_type": "code",
   "execution_count": 2,
   "metadata": {},
   "outputs": [],
   "source": [
    "import numpy as np\n",
    "import csv\n",
    "import pandas as pd\n",
    "from pgmpy.models import BayesianModel\n",
    "from pgmpy.estimators import MaximumLikelihoodEstimator\n",
    "from pgmpy.inference import VariableElimination"
   ]
  },
  {
   "cell_type": "code",
   "execution_count": 3,
   "metadata": {},
   "outputs": [],
   "source": [
    "heartDisease = pd.read_csv('heart.csv')\n",
    "heartDisease = heartDisease.replace('?',np.nan)"
   ]
  },
  {
   "cell_type": "code",
   "execution_count": 4,
   "metadata": {},
   "outputs": [
    {
     "name": "stdout",
     "output_type": "stream",
     "text": [
      "Few examples from the dataset are given below\n",
      "   age  sex  cp  trestbps  chol  fbs  restecg  thalach  exang  oldpeak  slope  \\\n",
      "0   63    1   1       145   233    1        2      150      0      2.3      3   \n",
      "1   67    1   4       160   286    0        2      108      1      1.5      2   \n",
      "2   67    1   4       120   229    0        2      129      1      2.6      2   \n",
      "3   37    1   3       130   250    0        0      187      0      3.5      3   \n",
      "4   41    0   2       130   204    0        2      172      0      1.4      1   \n",
      "\n",
      "  ca thal  heartdisease  \n",
      "0  0    6             0  \n",
      "1  3    3             2  \n",
      "2  2    7             1  \n",
      "3  0    3             0  \n",
      "4  0    3             0  \n"
     ]
    }
   ],
   "source": [
    "print('Few examples from the dataset are given below')\n",
    "print(heartDisease.head())"
   ]
  },
  {
   "cell_type": "code",
   "execution_count": 5,
   "metadata": {},
   "outputs": [],
   "source": [
    "model = BayesianModel([('age','trestbps'),('age','fbs'),('sex','trestbps'),('exang','trestbps'),('trestbps','heartdisease'),('fbs','heartdisease'),('heartdisease','restecg'),('heartdisease','thalach'),('heartdisease','chol')])\n"
   ]
  },
  {
   "cell_type": "code",
   "execution_count": 6,
   "metadata": {},
   "outputs": [
    {
     "name": "stdout",
     "output_type": "stream",
     "text": [
      "\n",
      "Learning CPD using Maximum likelihood estimators\n"
     ]
    }
   ],
   "source": [
    "print('\\nLearning CPD using Maximum likelihood estimators')\n",
    "model.fit(heartDisease,estimator=MaximumLikelihoodEstimator)"
   ]
  },
  {
   "cell_type": "code",
   "execution_count": 7,
   "metadata": {},
   "outputs": [
    {
     "name": "stdout",
     "output_type": "stream",
     "text": [
      "\n",
      " Inferencing with Bayesian Network:\n"
     ]
    }
   ],
   "source": [
    "print('\\n Inferencing with Bayesian Network:')\n",
    "HeartDisease_infer = VariableElimination(model)"
   ]
  },
  {
   "cell_type": "code",
   "execution_count": 9,
   "metadata": {},
   "outputs": [
    {
     "name": "stderr",
     "output_type": "stream",
     "text": [
      "Finding Elimination Order: : 100%|███████████████████████████████████████████████████████| 7/7 [06:06<00:00, 52.39s/it]\n",
      "Finding Elimination Order: :   0%|                                                               | 0/7 [00:00<?, ?it/s]\n",
      "  0%|                                                                                            | 0/7 [00:00<?, ?it/s]\u001b[A\n",
      "Eliminating: sex:   0%|                                                                          | 0/7 [00:00<?, ?it/s]\u001b[A"
     ]
    },
    {
     "name": "stdout",
     "output_type": "stream",
     "text": [
      "\n",
      " 1. Probability of HeartDisease given Age=28\n"
     ]
    },
    {
     "name": "stderr",
     "output_type": "stream",
     "text": [
      "\n",
      "Eliminating: thalach:   0%|                                                                      | 0/7 [00:00<?, ?it/s]\u001b[A\n",
      "Eliminating: restecg:   0%|                                                                      | 0/7 [00:00<?, ?it/s]\u001b[A\n",
      "Eliminating: trestbps:   0%|                                                                     | 0/7 [00:00<?, ?it/s]\u001b[A\n",
      "Eliminating: exang:   0%|                                                                        | 0/7 [00:00<?, ?it/s]\u001b[A\n",
      "Eliminating: chol:   0%|                                                                         | 0/7 [00:00<?, ?it/s]\u001b[A\n",
      "Eliminating: fbs: 100%|██████████████████████████████████████████████████████████████████| 7/7 [00:00<00:00, 92.13it/s]\u001b[A"
     ]
    },
    {
     "name": "stdout",
     "output_type": "stream",
     "text": [
      "+-----------------+---------------------+\n",
      "| heartdisease    |   phi(heartdisease) |\n",
      "+=================+=====================+\n",
      "| heartdisease(0) |              0.5932 |\n",
      "+-----------------+---------------------+\n",
      "| heartdisease(1) |              0.1714 |\n",
      "+-----------------+---------------------+\n",
      "| heartdisease(2) |              0.0811 |\n",
      "+-----------------+---------------------+\n",
      "| heartdisease(3) |              0.1138 |\n",
      "+-----------------+---------------------+\n",
      "| heartdisease(4) |              0.0405 |\n",
      "+-----------------+---------------------+\n"
     ]
    },
    {
     "name": "stderr",
     "output_type": "stream",
     "text": [
      "\n"
     ]
    }
   ],
   "source": [
    "print('\\n 1. Probability of HeartDisease given Age=28')\n",
    "q=HeartDisease_infer.query(variables=['heartdisease'],evidence={'age':28})\n",
    "print(q)"
   ]
  },
  {
   "cell_type": "code",
   "execution_count": 10,
   "metadata": {},
   "outputs": [
    {
     "name": "stderr",
     "output_type": "stream",
     "text": [
      "\r",
      "Finding Elimination Order: : 100%|███████████████████████████████████████████████████████| 7/7 [01:21<00:00, 11.65s/it]"
     ]
    },
    {
     "name": "stdout",
     "output_type": "stream",
     "text": [
      "\n",
      " 2. Probability of HeartDisease given cholesterol=100\n"
     ]
    },
    {
     "name": "stderr",
     "output_type": "stream",
     "text": [
      "\n",
      "Finding Elimination Order: :   0%|                                                               | 0/7 [00:00<?, ?it/s]\n",
      "  0%|                                                                                            | 0/7 [00:00<?, ?it/s]\u001b[A\n",
      "Eliminating: sex:   0%|                                                                          | 0/7 [00:00<?, ?it/s]\u001b[A\n",
      "Eliminating: thalach:   0%|                                                                      | 0/7 [00:00<?, ?it/s]\u001b[A\n",
      "Eliminating: restecg:   0%|                                                                      | 0/7 [00:00<?, ?it/s]\u001b[A\n",
      "Finding Elimination Order: : 100%|██████████████████████████████████████████████████████| 7/7 [00:00<00:00, 125.03it/s]\u001b[A\n",
      "\n",
      "Eliminating: trestbps:  57%|██████████████████████████████████▊                          | 4/7 [00:00<00:00, 31.26it/s]\u001b[A\n",
      "Eliminating: exang:  57%|████████████████████████████████████▌                           | 4/7 [00:00<00:00, 31.26it/s]\u001b[A\n",
      "Eliminating: age:  57%|█████████████████████████████████████▋                            | 4/7 [00:00<00:00, 31.26it/s]\u001b[A\n",
      "Eliminating: fbs: 100%|██████████████████████████████████████████████████████████████████| 7/7 [00:00<00:00, 40.71it/s]\u001b[A"
     ]
    },
    {
     "name": "stdout",
     "output_type": "stream",
     "text": [
      "+-----------------+---------------------+\n",
      "| heartdisease    |   phi(heartdisease) |\n",
      "+=================+=====================+\n",
      "| heartdisease(0) |              1.0000 |\n",
      "+-----------------+---------------------+\n",
      "| heartdisease(1) |              0.0000 |\n",
      "+-----------------+---------------------+\n",
      "| heartdisease(2) |              0.0000 |\n",
      "+-----------------+---------------------+\n",
      "| heartdisease(3) |              0.0000 |\n",
      "+-----------------+---------------------+\n",
      "| heartdisease(4) |              0.0000 |\n",
      "+-----------------+---------------------+\n"
     ]
    },
    {
     "name": "stderr",
     "output_type": "stream",
     "text": [
      "\n"
     ]
    }
   ],
   "source": [
    "print('\\n 2. Probability of HeartDisease given cholesterol=100')\n",
    "q=HeartDisease_infer.query(variables=['heartdisease'],evidence={'chol':100})\n",
    "print(q)"
   ]
  },
  {
   "cell_type": "code",
   "execution_count": null,
   "metadata": {},
   "outputs": [],
   "source": []
  }
 ],
 "metadata": {
  "kernelspec": {
   "display_name": "Python 3",
   "language": "python",
   "name": "python3"
  }
 },
 "nbformat": 4,
 "nbformat_minor": 4
}
