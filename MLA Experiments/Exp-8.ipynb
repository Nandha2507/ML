{
 "cells": [
  {
   "cell_type": "code",
   "execution_count": 1,
   "metadata": {},
   "outputs": [],
   "source": [
    "import numpy as np\n",
    "from sklearn.cluster import KMeans\n",
    "import matplotlib.pyplot as plt\n",
    "from sklearn.mixture import GaussianMixture\n",
    "import pandas as pd"
   ]
  },
  {
   "cell_type": "code",
   "execution_count": 3,
   "metadata": {},
   "outputs": [],
   "source": [
    "X=pd.read_csv(\"kmeansdata.csv\")"
   ]
  },
  {
   "cell_type": "code",
   "execution_count": 5,
   "metadata": {},
   "outputs": [
    {
     "data": {
      "text/html": [
       "<div>\n",
       "<style scoped>\n",
       "    .dataframe tbody tr th:only-of-type {\n",
       "        vertical-align: middle;\n",
       "    }\n",
       "\n",
       "    .dataframe tbody tr th {\n",
       "        vertical-align: top;\n",
       "    }\n",
       "\n",
       "    .dataframe thead th {\n",
       "        text-align: right;\n",
       "    }\n",
       "</style>\n",
       "<table border=\"1\" class=\"dataframe\">\n",
       "  <thead>\n",
       "    <tr style=\"text-align: right;\">\n",
       "      <th></th>\n",
       "      <th>x</th>\n",
       "      <th>y</th>\n",
       "      <th>Unnamed: 2</th>\n",
       "    </tr>\n",
       "  </thead>\n",
       "  <tbody>\n",
       "    <tr>\n",
       "      <th>0</th>\n",
       "      <td>4</td>\n",
       "      <td>53</td>\n",
       "      <td>NaN</td>\n",
       "    </tr>\n",
       "    <tr>\n",
       "      <th>1</th>\n",
       "      <td>5</td>\n",
       "      <td>63</td>\n",
       "      <td>NaN</td>\n",
       "    </tr>\n",
       "    <tr>\n",
       "      <th>2</th>\n",
       "      <td>10</td>\n",
       "      <td>59</td>\n",
       "      <td>NaN</td>\n",
       "    </tr>\n",
       "    <tr>\n",
       "      <th>3</th>\n",
       "      <td>9</td>\n",
       "      <td>77</td>\n",
       "      <td>NaN</td>\n",
       "    </tr>\n",
       "    <tr>\n",
       "      <th>4</th>\n",
       "      <td>13</td>\n",
       "      <td>49</td>\n",
       "      <td>NaN</td>\n",
       "    </tr>\n",
       "  </tbody>\n",
       "</table>\n",
       "</div>"
      ],
      "text/plain": [
       "    x   y  Unnamed: 2\n",
       "0   4  53         NaN\n",
       "1   5  63         NaN\n",
       "2  10  59         NaN\n",
       "3   9  77         NaN\n",
       "4  13  49         NaN"
      ]
     },
     "execution_count": 5,
     "metadata": {},
     "output_type": "execute_result"
    }
   ],
   "source": [
    "X.head()"
   ]
  },
  {
   "cell_type": "code",
   "execution_count": 6,
   "metadata": {},
   "outputs": [],
   "source": [
    "x1 = X['x'].values\n",
    "x2 = X['y'].values"
   ]
  },
  {
   "cell_type": "code",
   "execution_count": 7,
   "metadata": {},
   "outputs": [],
   "source": [
    "X.drop(columns=\"Unnamed: 2\",inplace=True)"
   ]
  },
  {
   "cell_type": "code",
   "execution_count": 8,
   "metadata": {},
   "outputs": [],
   "source": [
    "X = np.array(list(zip(x1, x2))).reshape(len(x1), 2)"
   ]
  },
  {
   "cell_type": "code",
   "execution_count": 9,
   "metadata": {},
   "outputs": [
    {
     "data": {
      "image/png": "[encoded data removed]",
      "text/plain": [
       "<Figure size 432x288 with 1 Axes>"
      ]
     },
     "metadata": {
      "needs_background": "light"
     },
     "output_type": "display_data"
    }
   ],
   "source": [
    "plt.plot()\n",
    "plt.xlim([0, 100])\n",
    "plt.ylim([0, 50])\n",
    "plt.title('Dataset')\n",
    "plt.scatter(x1, x2)\n",
    "plt.show()"
   ]
  },
  {
   "cell_type": "code",
   "execution_count": 11,
   "metadata": {},
   "outputs": [
    {
     "name": "stdout",
     "output_type": "stream",
     "text": [
      "\n",
      "EM predictions\n",
      "[2 2 2 2 2 2 2 2 2 2 2 2 2 2 2 2 2 2 2 2 0 0 0 0 0 0 0 0 0 0 0 0 0 0 0 0 0\n",
      " 0 0 0 0 0 0 0 0 0 0 0 0 0 0 0 0 0 0 0 0 0 0 0 1 1 1 1 1 1 1 1 1 1 1 1 1 1\n",
      " 1]\n",
      "mean:\n",
      " [[ 66.97499999 132.80000003]\n",
      " [ 68.93333345  19.39999982]\n",
      " [ 20.15000076  64.94999949]]\n",
      "\n",
      "\n",
      "Covariances\n",
      " [[[ 8.35874377e+02 -4.00305000e+02]\n",
      "  [-4.00305000e+02  3.14360000e+02]]\n",
      "\n",
      " [[ 4.77955568e+01  2.26667631e-01]\n",
      "  [ 2.26667631e-01  4.93066669e+01]]\n",
      "\n",
      " [[ 8.80275331e+01 -4.79252122e+00]\n",
      "  [-4.79252122e+00  9.64475217e+01]]]\n",
      "[[  4  53]\n",
      " [  5  63]\n",
      " [ 10  59]\n",
      " [  9  77]\n",
      " [ 13  49]\n",
      " [ 13  69]\n",
      " [ 12  88]\n",
      " [ 15  75]\n",
      " [ 18  61]\n",
      " [ 19  65]\n",
      " [ 22  74]\n",
      " [ 27  72]\n",
      " [ 28  76]\n",
      " [ 24  58]\n",
      " [ 27  55]\n",
      " [ 28  60]\n",
      " [ 30  52]\n",
      " [ 31  60]\n",
      " [ 32  61]\n",
      " [ 36  72]\n",
      " [ 28 147]\n",
      " [ 32 149]\n",
      " [ 35 153]\n",
      " [ 33 154]\n",
      " [ 38 151]\n",
      " [ 41 150]\n",
      " [ 38 145]\n",
      " [ 38 143]\n",
      " [ 32 143]\n",
      " [ 34 141]\n",
      " [ 44 156]\n",
      " [ 44 149]\n",
      " [ 44 143]\n",
      " [ 46 142]\n",
      " [ 47 149]\n",
      " [ 49 152]\n",
      " [ 50 142]\n",
      " [ 53 144]\n",
      " [ 52 152]\n",
      " [ 55 155]\n",
      " [ 54 124]\n",
      " [ 60 136]\n",
      " [ 63 139]\n",
      " [ 86 132]\n",
      " [ 85 115]\n",
      " [ 85  96]\n",
      " [ 78  94]\n",
      " [ 74  96]\n",
      " [ 97 122]\n",
      " [ 98 116]\n",
      " [ 98 124]\n",
      " [ 99 119]\n",
      " [ 99 128]\n",
      " [101 115]\n",
      " [108 111]\n",
      " [110 111]\n",
      " [108 116]\n",
      " [111 126]\n",
      " [115 117]\n",
      " [117 115]\n",
      " [ 70   4]\n",
      " [ 77  12]\n",
      " [ 83  21]\n",
      " [ 61  15]\n",
      " [ 69  15]\n",
      " [ 78  16]\n",
      " [ 66  18]\n",
      " [ 58  13]\n",
      " [ 64  20]\n",
      " [ 69  21]\n",
      " [ 66  23]\n",
      " [ 61  25]\n",
      " [ 76  27]\n",
      " [ 72  31]\n",
      " [ 64  30]]\n"
     ]
    },
    {
     "data": {
      "image/png": "[encoded data removed]",
      "text/plain": [
       "<Figure size 432x288 with 1 Axes>"
      ]
     },
     "metadata": {
      "needs_background": "light"
     },
     "output_type": "display_data"
    }
   ],
   "source": [
    "#code for EM\n",
    "gmm = GaussianMixture(n_components=3)\n",
    "gmm.fit(X)\n",
    "em_predictions = gmm.predict(X)\n",
    "print(\"\\nEM predictions\")\n",
    "print(em_predictions)\n",
    "print(\"mean:\\n\",gmm.means_)\n",
    "print('\\n')\n",
    "print(\"Covariances\\n\",gmm.covariances_)\n",
    "print(X)\n",
    "plt.title('Exceptation Maximum')\n",
    "plt.scatter(X[:,0], X[:,1],c=em_predictions,s=50)\n",
    "plt.show()"
   ]
  },
  {
   "cell_type": "code",
   "execution_count": 12,
   "metadata": {},
   "outputs": [
    {
     "name": "stdout",
     "output_type": "stream",
     "text": [
      "[[ 41.05714286  45.42857143]\n",
      " [ 43.91304348 146.04347826]\n",
      " [ 98.17647059 114.88235294]]\n",
      "[0 0 0 0 0 0 0 0 0 0 0 0 0 0 0 0 0 0 0 0 1 1 1 1 1 1 1 1 1 1 1 1 1 1 1 1 1\n",
      " 1 1 1 1 1 1 2 2 2 2 2 2 2 2 2 2 2 2 2 2 2 2 2 0 0 0 0 0 0 0 0 0 0 0 0 0 0\n",
      " 0]\n"
     ]
    },
    {
     "data": {
      "text/plain": [
       "<matplotlib.collections.PathCollection at 0x17de8b40220>"
      ]
     },
     "execution_count": 12,
     "metadata": {},
     "output_type": "execute_result"
    },
    {
     "data": {
      "image/png": "[encoded data removed]",
      "text/plain": [
       "<Figure size 432x288 with 1 Axes>"
      ]
     },
     "metadata": {
      "needs_background": "light"
     },
     "output_type": "display_data"
    }
   ],
   "source": [
    "#code for Kmeans\n",
    "import matplotlib.pyplot as plt1\n",
    "kmeans = KMeans(n_clusters=3) \n",
    "kmeans.fit(X)\n",
    "print(kmeans.cluster_centers_)\n",
    "print(kmeans.labels_)\n",
    "plt.title('KMEANS')\n",
    "plt1.scatter(X[:,0], X[:,1], c=kmeans.labels_, cmap='rainbow')\n",
    "plt1.scatter(kmeans.cluster_centers_[:,0] ,kmeans.cluster_centers_[:,1], color='black')"
   ]
  },
  {
   "cell_type": "code",
   "execution_count": null,
   "metadata": {},
   "outputs": [],
   "source": []
  }
 ],
 "metadata": {
  "kernelspec": {
   "display_name": "Python 3",
   "language": "python",
   "name": "python3"
  },
  "language_info": {
   "codemirror_mode": {
    "name": "ipython",
    "version": 3
   },
   "file_extension": ".py",
   "mimetype": "text/x-python",
   "name": "python",
   "nbconvert_exporter": "python",
   "pygments_lexer": "ipython3",
   "version": "3.8.5"
  }
 },
 "nbformat": 4,
 "nbformat_minor": 4
}
